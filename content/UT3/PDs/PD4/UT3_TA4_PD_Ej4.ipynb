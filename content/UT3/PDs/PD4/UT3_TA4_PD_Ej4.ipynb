{
  "nbformat": 4,
  "nbformat_minor": 0,
  "metadata": {
    "colab": {
      "provenance": []
    },
    "kernelspec": {
      "name": "python3",
      "display_name": "Python 3"
    },
    "language_info": {
      "name": "python"
    }
  },
  "cells": [
    {
      "cell_type": "code",
      "execution_count": null,
      "metadata": {
        "colab": {
          "base_uri": "https://localhost:8080/"
        },
        "id": "P1UKkifKmbVc",
        "outputId": "337f1b2d-f9e0-4356-b996-260c97cbc266"
      },
      "outputs": [
        {
          "output_type": "stream",
          "name": "stdout",
          "text": [
            "[[60 2 0 ... 1 50 'Si']\n",
            " [69 2 1 ... 0 60 'Si']\n",
            " [52 1 0 ... 1 35 'No']\n",
            " ...\n",
            " [55 3 0 ... 1 45 'No']\n",
            " [73 2 1 ... 0 60 'Si']\n",
            " [62 3 0 ... 1 65 'No']]\n"
          ]
        }
      ],
      "source": [
        "import matplotlib\n",
        "import matplotlib.pyplot as plt\n",
        "import pandas as pd\n",
        "from sklearn.linear_model import LogisticRegression\n",
        "from sklearn.metrics import confusion_matrix, classification_report\n",
        "from sklearn.model_selection import train_test_split\n",
        "\n",
        "input_file = \"cardiac-training.csv\"\n",
        "df = pd.read_csv(input_file, header=0)\n",
        "print(df.values)\n",
        "\n"
      ]
    },
    {
      "cell_type": "code",
      "source": [
        "X = df.loc[:, df.columns != '2do_Ataque_Corazon']\n",
        "y = df['2do_Ataque_Corazon'].values"
      ],
      "metadata": {
        "id": "sK6VIWHtnBd3"
      },
      "execution_count": null,
      "outputs": []
    },
    {
      "cell_type": "code",
      "source": [
        "train_X, test_X, train_y, test_y = train_test_split(X, y, test_size=0.30, random_state=\n",
        "0, shuffle=True)"
      ],
      "metadata": {
        "id": "IjAUJF_fnFTp"
      },
      "execution_count": null,
      "outputs": []
    },
    {
      "cell_type": "code",
      "source": [
        "lr = LogisticRegression()\n",
        "lr = lr.fit(train_X, train_y)"
      ],
      "metadata": {
        "colab": {
          "base_uri": "https://localhost:8080/"
        },
        "id": "XpEZQi8XnKMI",
        "outputId": "37cd3430-744c-4e73-9668-5909f4a0227f"
      },
      "execution_count": null,
      "outputs": [
        {
          "output_type": "stream",
          "name": "stderr",
          "text": [
            "/usr/local/lib/python3.10/dist-packages/sklearn/linear_model/_logistic.py:458: ConvergenceWarning: lbfgs failed to converge (status=1):\n",
            "STOP: TOTAL NO. of ITERATIONS REACHED LIMIT.\n",
            "\n",
            "Increase the number of iterations (max_iter) or scale the data as shown in:\n",
            "    https://scikit-learn.org/stable/modules/preprocessing.html\n",
            "Please also refer to the documentation for alternative solver options:\n",
            "    https://scikit-learn.org/stable/modules/linear_model.html#logistic-regression\n",
            "  n_iter_i = _check_optimize_result(\n"
          ]
        }
      ]
    },
    {
      "cell_type": "code",
      "source": [
        "y_pred = lr.predict(test_X)\n",
        "print(\"Predicted vs Expected\")\n",
        "print(y_pred)\n",
        "print(test_y)"
      ],
      "metadata": {
        "colab": {
          "base_uri": "https://localhost:8080/"
        },
        "id": "ntuaKC54nNXM",
        "outputId": "a43fdeec-d3c0-4fa5-850b-572f3dda11e8"
      },
      "execution_count": null,
      "outputs": [
        {
          "output_type": "stream",
          "name": "stdout",
          "text": [
            "Predicted vs Expected\n",
            "['No' 'Si' 'No' 'No' 'Si' 'No' 'Si' 'Si' 'Si' 'No' 'Si' 'Si' 'Si' 'No'\n",
            " 'No' 'Si' 'Si' 'Si' 'Si' 'Si' 'Si' 'No' 'No' 'Si' 'Si' 'Si' 'Si' 'No'\n",
            " 'No' 'Si' 'No' 'No' 'Si' 'No' 'Si' 'No' 'Si' 'Si' 'Si' 'No' 'Si' 'No']\n",
            "['No' 'Si' 'No' 'No' 'Si' 'No' 'Si' 'Si' 'Si' 'No' 'Si' 'Si' 'Si' 'No'\n",
            " 'No' 'Si' 'Si' 'Si' 'No' 'Si' 'Si' 'No' 'No' 'No' 'Si' 'Si' 'Si' 'Si'\n",
            " 'No' 'Si' 'No' 'No' 'Si' 'No' 'Si' 'No' 'Si' 'No' 'Si' 'No' 'Si' 'No']\n"
          ]
        }
      ]
    },
    {
      "cell_type": "code",
      "source": [
        "print(classification_report(test_y, y_pred, digits=3))"
      ],
      "metadata": {
        "colab": {
          "base_uri": "https://localhost:8080/"
        },
        "id": "nebdH1KynPmO",
        "outputId": "704c41e6-8aa1-4133-c75c-bfa6fa489a42"
      },
      "execution_count": null,
      "outputs": [
        {
          "output_type": "stream",
          "name": "stdout",
          "text": [
            "              precision    recall  f1-score   support\n",
            "\n",
            "          No      0.941     0.842     0.889        19\n",
            "          Si      0.880     0.957     0.917        23\n",
            "\n",
            "    accuracy                          0.905        42\n",
            "   macro avg      0.911     0.899     0.903        42\n",
            "weighted avg      0.908     0.905     0.904        42\n",
            "\n"
          ]
        }
      ]
    },
    {
      "cell_type": "code",
      "source": [
        "print(confusion_matrix(test_y, y_pred))"
      ],
      "metadata": {
        "colab": {
          "base_uri": "https://localhost:8080/"
        },
        "id": "NnWZeRUJnR61",
        "outputId": "284e242a-c854-4ab6-e089-5d599aba0431"
      },
      "execution_count": null,
      "outputs": [
        {
          "output_type": "stream",
          "name": "stdout",
          "text": [
            "[[16  3]\n",
            " [ 1 22]]\n"
          ]
        }
      ]
    }
  ]
}