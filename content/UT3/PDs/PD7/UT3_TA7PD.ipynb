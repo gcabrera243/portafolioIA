{
  "nbformat": 4,
  "nbformat_minor": 0,
  "metadata": {
    "colab": {
      "provenance": []
    },
    "kernelspec": {
      "name": "python3",
      "display_name": "Python 3"
    },
    "language_info": {
      "name": "python"
    }
  },
  "cells": [
    {
      "cell_type": "code",
      "execution_count": null,
      "metadata": {
        "id": "tH2QNCO9RjXi"
      },
      "outputs": [],
      "source": [
        "import matplotlib\n",
        "import matplotlib.pyplot as plt\n",
        "import pandas as pd\n",
        "from sklearn.discriminant_analysis import LinearDiscriminantAnalysis\n",
        "from sklearn.linear_model import LogisticRegression\n",
        "from sklearn.metrics import confusion_matrix, classification_report\n",
        "from sklearn.model_selection import train_test_split\n"
      ]
    },
    {
      "cell_type": "code",
      "source": [
        "input_file = \"sample.csv\"\n",
        "df = pd.read_csv(input_file, header=0)\n",
        "print(df.values)\n"
      ],
      "metadata": {
        "colab": {
          "base_uri": "https://localhost:8080/"
        },
        "id": "sLlQZ6uZR0I0",
        "outputId": "431ebaea-8c08-43f5-efd0-011b2dec5a5e"
      },
      "execution_count": null,
      "outputs": [
        {
          "output_type": "stream",
          "name": "stdout",
          "text": [
            "[[2.7810836  2.550537   0.        ]\n",
            " [1.46548937 2.36212508 0.        ]\n",
            " [3.39656169 4.40029353 0.        ]\n",
            " [1.38807019 1.85022032 0.        ]\n",
            " [3.06407232 3.00530597 0.        ]\n",
            " [2.2810836  2.950537   0.        ]\n",
            " [1.86548937 2.86212508 0.        ]\n",
            " [3.89656169 4.00029353 0.        ]\n",
            " [1.08807019 1.15022032 0.        ]\n",
            " [3.96407232 3.00530597 0.        ]\n",
            " [7.62753121 2.75926224 1.        ]\n",
            " [5.33244125 2.08862677 1.        ]\n",
            " [6.92259672 1.77106367 1.        ]\n",
            " [8.37541865 0.52068655 1.        ]\n",
            " [7.67375647 3.50856301 1.        ]\n",
            " [6.62753121 2.99262235 1.        ]\n",
            " [6.33244125 1.08862678 1.        ]\n",
            " [5.92259672 1.88106367 1.        ]\n",
            " [8.67541865 0.30206866 1.        ]\n",
            " [7.67375647 1.50856301 1.        ]]\n"
          ]
        }
      ]
    },
    {
      "cell_type": "code",
      "source": [
        "colors = (\"orange\", \"blue\")\n",
        "plt.scatter(df['x'], df['y'], s=300, c=df['label'],\n",
        "cmap=matplotlib.colors.ListedColormap(colors))\n",
        "plt.show()"
      ],
      "metadata": {
        "colab": {
          "base_uri": "https://localhost:8080/",
          "height": 430
        },
        "id": "CcbpHasAR2cI",
        "outputId": "bb26161a-93f3-4a62-a277-c6753658cb2f"
      },
      "execution_count": null,
      "outputs": [
        {
          "output_type": "display_data",
          "data": {
            "text/plain": [
              "<Figure size 640x480 with 1 Axes>"
            ],
            "image/png": "[encoded data removed]"
          },
          "metadata": {}
        }
      ]
    },
    {
      "cell_type": "code",
      "source": [
        "X = df[['x', 'y']].values\n",
        "y = df['label'].values"
      ],
      "metadata": {
        "id": "EBq5x6PfR3-e"
      },
      "execution_count": null,
      "outputs": []
    },
    {
      "cell_type": "code",
      "source": [
        "train_X, test_X, train_y, test_y = train_test_split(X, y, test_size=0.25,\n",
        "random_state=0, shuffle=True)"
      ],
      "metadata": {
        "id": "LCv0wkXlR6br"
      },
      "execution_count": null,
      "outputs": []
    },
    {
      "cell_type": "code",
      "source": [
        "lda = LinearDiscriminantAnalysis()\n",
        "lda = lda.fit(train_X, train_y)"
      ],
      "metadata": {
        "id": "qP_kI_tgR8Vq"
      },
      "execution_count": null,
      "outputs": []
    },
    {
      "cell_type": "code",
      "source": [
        "y_pred = lda.predict(test_X)\n",
        "print(\"Predicted vs Expected\")\n",
        "print(y_pred)\n",
        "print(test_y)"
      ],
      "metadata": {
        "colab": {
          "base_uri": "https://localhost:8080/"
        },
        "id": "B-i591-bR-yX",
        "outputId": "f80e9b61-4810-4050-d3b3-9095fb04e934"
      },
      "execution_count": null,
      "outputs": [
        {
          "output_type": "stream",
          "name": "stdout",
          "text": [
            "Predicted vs Expected\n",
            "[1 0 1 0 1]\n",
            "[1 0 1 0 1]\n"
          ]
        }
      ]
    },
    {
      "cell_type": "code",
      "source": [
        "print(classification_report(test_y, y_pred, digits=3))\n"
      ],
      "metadata": {
        "colab": {
          "base_uri": "https://localhost:8080/"
        },
        "id": "jipDo-I7SBbk",
        "outputId": "37d7f52f-4643-4cde-dda1-75aacdfeed75"
      },
      "execution_count": null,
      "outputs": [
        {
          "output_type": "stream",
          "name": "stdout",
          "text": [
            "              precision    recall  f1-score   support\n",
            "\n",
            "           0      1.000     1.000     1.000         2\n",
            "           1      1.000     1.000     1.000         3\n",
            "\n",
            "    accuracy                          1.000         5\n",
            "   macro avg      1.000     1.000     1.000         5\n",
            "weighted avg      1.000     1.000     1.000         5\n",
            "\n"
          ]
        }
      ]
    },
    {
      "cell_type": "code",
      "source": [
        "print(confusion_matrix(test_y, y_pred))"
      ],
      "metadata": {
        "colab": {
          "base_uri": "https://localhost:8080/"
        },
        "id": "w_LdEBavSDRQ",
        "outputId": "25555d16-92ad-4a0f-d754-4dca7982ea06"
      },
      "execution_count": null,
      "outputs": [
        {
          "output_type": "stream",
          "name": "stdout",
          "text": [
            "[[2 0]\n",
            " [0 3]]\n"
          ]
        }
      ]
    }
  ]
}